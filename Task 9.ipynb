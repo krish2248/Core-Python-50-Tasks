{
 "cells": [
  {
   "cell_type": "code",
   "execution_count": 2,
   "id": "841631ff",
   "metadata": {},
   "outputs": [
    {
     "name": "stdout",
     "output_type": "stream",
     "text": [
      "Your BMI is 23.53. User is normal weight.\n"
     ]
    }
   ],
   "source": [
    "#Task 9: BMI Calculator with Categories\n",
    "#Problem: Calculate BMI and categorize: Underweight (<18.5), Normal (18.5-24.9), Overweight (25-\n",
    "#         29.9), Obese (≥30). Hint: BMI = weight(kg) / height(m)². Use elif for different ranges.\n",
    "\n",
    "weight = float(input(\"Enter weight \"))\n",
    "height = float(input(\"Enter height\"))\n",
    "\n",
    "bmi = weight / (height ** 2)\n",
    "\n",
    "if bmi < 18.5:\n",
    "    print(f\"Your BMI is {bmi:.2f}. User is underweight.\")\n",
    "\n",
    "elif 18.5 <= bmi <= 24.9:\n",
    "    print(f\"Your BMI is {bmi:.2f}. User is normal weight.\")\n",
    "\n",
    "elif 25 <= bmi <= 29.9:\n",
    "    print(f\"Your BMI is {bmi:.2f}. User is overweight.\")\n",
    "\n",
    "elif bmi >= 30:\n",
    "    print(f\"Your BMI is {bmi:.2f}. User is obese.\")\n",
    "\n",
    "else:\n",
    "    print(\"Invalid input\")"
   ]
  }
 ],
 "metadata": {
  "kernelspec": {
   "display_name": "Python 3",
   "language": "python",
   "name": "python3"
  },
  "language_info": {
   "codemirror_mode": {
    "name": "ipython",
    "version": 3
   },
   "file_extension": ".py",
   "mimetype": "text/x-python",
   "name": "python",
   "nbconvert_exporter": "python",
   "pygments_lexer": "ipython3",
   "version": "3.11.9"
  }
 },
 "nbformat": 4,
 "nbformat_minor": 5
}
