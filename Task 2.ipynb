{
 "cells": [
  {
   "cell_type": "code",
   "execution_count": 5,
   "id": "c0927c8f",
   "metadata": {},
   "outputs": [
    {
     "name": "stdout",
     "output_type": "stream",
     "text": [
      "Given age is of adult\n"
     ]
    }
   ],
   "source": [
    "#Task 2: Age Category\n",
    "#Problem: Create a program that categorizes a person's age into: Child (0-12), Teen (13-19), Adult (20-\n",
    "#         64), Senior (65+). Hint: Use multiple elif statements to check age ranges.\n",
    "\n",
    "user = int(input(\"Enter Age\"))\n",
    "\n",
    "if 0 <= user <= 12:\n",
    "    print(\"Given age is of child\")\n",
    "\n",
    "elif 13<= user <= 19:\n",
    "    print(\"Given age is of teen\")\n",
    "\n",
    "elif 20<= user <= 64:\n",
    "    print(\"Given age is of adult\")\n",
    "\n",
    "elif user >= 65:\n",
    "    print(\"Given age is of senior\")\n",
    "\n",
    "else :\n",
    "    print(\"Invalid Age Input\")"
   ]
  }
 ],
 "metadata": {
  "kernelspec": {
   "display_name": "Python 3",
   "language": "python",
   "name": "python3"
  },
  "language_info": {
   "codemirror_mode": {
    "name": "ipython",
    "version": 3
   },
   "file_extension": ".py",
   "mimetype": "text/x-python",
   "name": "python",
   "nbconvert_exporter": "python",
   "pygments_lexer": "ipython3",
   "version": "3.11.9"
  }
 },
 "nbformat": 4,
 "nbformat_minor": 5
}
