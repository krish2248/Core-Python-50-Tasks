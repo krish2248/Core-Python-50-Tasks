{
 "cells": [
  {
   "cell_type": "code",
   "execution_count": 1,
   "id": "4ebb6151",
   "metadata": {},
   "outputs": [
    {
     "name": "stdout",
     "output_type": "stream",
     "text": [
      "Vowels: 7\n",
      "Consonants: 14\n",
      "Digits: 0\n",
      "Spaces: 0\n"
     ]
    }
   ],
   "source": [
    "# Task 48: String Analyzer\n",
    "# Problem: Analyze a string: count vowels, consonants, digits, and spaces using for loop.\n",
    "\n",
    "text = input(\"Enter a string: \")\n",
    "\n",
    "vowels = 0\n",
    "consonants = 0\n",
    "digits = 0\n",
    "spaces = 0\n",
    "\n",
    "for char in text:\n",
    "    if char.isalpha():\n",
    "        if char.lower() in 'aeiou':\n",
    "            vowels += 1\n",
    "        else:\n",
    "            consonants += 1\n",
    "    elif char.isdigit():\n",
    "        digits += 1\n",
    "    elif char.isspace():\n",
    "        spaces += 1\n",
    "\n",
    "print(f\"Vowels: {vowels}\")\n",
    "print(f\"Consonants: {consonants}\")\n",
    "print(f\"Digits: {digits}\")\n",
    "print(f\"Spaces: {spaces}\")"
   ]
  }
 ],
 "metadata": {
  "kernelspec": {
   "display_name": "Python 3",
   "language": "python",
   "name": "python3"
  },
  "language_info": {
   "codemirror_mode": {
    "name": "ipython",
    "version": 3
   },
   "file_extension": ".py",
   "mimetype": "text/x-python",
   "name": "python",
   "nbconvert_exporter": "python",
   "pygments_lexer": "ipython3",
   "version": "3.11.9"
  }
 },
 "nbformat": 4,
 "nbformat_minor": 5
}
