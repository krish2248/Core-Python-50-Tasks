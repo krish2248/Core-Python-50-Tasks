{
 "cells": [
  {
   "cell_type": "code",
   "execution_count": null,
   "id": "6790cec3",
   "metadata": {},
   "outputs": [
    {
     "name": "stdout",
     "output_type": "stream",
     "text": [
      "Medium password\n"
     ]
    }
   ],
   "source": [
    "#Task 11: Password Strength Checker\n",
    "#Problem: Evaluate password strength: Weak (length < 6), Medium (6-8 chars), Strong (>8 chars with\n",
    "#         numbers). Hint: Use len() function and any(char.isdigit() for char in password) to check for numbers.\n",
    "\n",
    "password = input(\"Enter password \")\n",
    "\n",
    "if len(password) < 6:\n",
    "    print(\"Weak password\")\n",
    "\n",
    "elif 6 <= len(password) <= 8:\n",
    "    print(\"Medium strength password\")\n",
    "    \n",
    "if len(password) > 8 :\n",
    "    print(\"Medium password\")\n",
    "\n",
    "elif len(password) > 8 and any(char.isdigit() for char in password):\n",
    "    print(\"Strong password\")\n",
    "\n",
    "else :\n",
    "    print(\"invalid input\")"
   ]
  }
 ],
 "metadata": {
  "kernelspec": {
   "display_name": "Python 3",
   "language": "python",
   "name": "python3"
  },
  "language_info": {
   "codemirror_mode": {
    "name": "ipython",
    "version": 3
   },
   "file_extension": ".py",
   "mimetype": "text/x-python",
   "name": "python",
   "nbconvert_exporter": "python",
   "pygments_lexer": "ipython3",
   "version": "3.11.9"
  }
 },
 "nbformat": 4,
 "nbformat_minor": 5
}
