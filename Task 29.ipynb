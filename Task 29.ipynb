{
 "cells": [
  {
   "cell_type": "code",
   "execution_count": null,
   "id": "0ef34696",
   "metadata": {},
   "outputs": [
    {
     "name": "stdout",
     "output_type": "stream",
     "text": [
      "Access granted!\n"
     ]
    }
   ],
   "source": [
    "# Task 29: Password Validation Loop\n",
    "# Problem: Keep asking for password until user enters the correct one.\n",
    "\n",
    "correct_password = \"python123\"\n",
    "\n",
    "password = input(\"Enter password: \")\n",
    "\n",
    "while password != correct_password:\n",
    "    print(\"Incorrect password. Try again.\")\n",
    "    password = input(\"Enter password: \")\n",
    "\n",
    "print(\"Access granted!\")"
   ]
  }
 ],
 "metadata": {
  "kernelspec": {
   "display_name": "Python 3",
   "language": "python",
   "name": "python3"
  },
  "language_info": {
   "codemirror_mode": {
    "name": "ipython",
    "version": 3
   },
   "file_extension": ".py",
   "mimetype": "text/x-python",
   "name": "python",
   "nbconvert_exporter": "python",
   "pygments_lexer": "ipython3",
   "version": "3.11.9"
  }
 },
 "nbformat": 4,
 "nbformat_minor": 5
}
