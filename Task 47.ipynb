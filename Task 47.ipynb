{
 "cells": [
  {
   "cell_type": "code",
   "execution_count": 1,
   "id": "a3b27ae2",
   "metadata": {},
   "outputs": [
    {
     "name": "stdout",
     "output_type": "stream",
     "text": [
      "Squares using for loop: [1, 4, 9, 16, 25, 36, 49, 64, 81, 100]\n",
      "Squares using list comprehension: [1, 4, 9, 16, 25, 36, 49, 64, 81, 100]\n"
     ]
    }
   ],
   "source": [
    "# Task 47: List Comprehension vs For Loop\n",
    "# Problem: Create the same list using both for loop and list comprehension (squares of 1-10).\n",
    "\n",
    "# Using for loop\n",
    "squares_loop = []\n",
    "for x in range(1, 11):\n",
    "    squares_loop.append(x ** 2)\n",
    "print(\"Squares using for loop:\", squares_loop)\n",
    "\n",
    "# Using list comprehension\n",
    "squares_comp = [x ** 2 for x in range(1, 11)]\n",
    "print(\"Squares using list comprehension:\", squares_comp)"
   ]
  }
 ],
 "metadata": {
  "kernelspec": {
   "display_name": "Python 3",
   "language": "python",
   "name": "python3"
  },
  "language_info": {
   "codemirror_mode": {
    "name": "ipython",
    "version": 3
   },
   "file_extension": ".py",
   "mimetype": "text/x-python",
   "name": "python",
   "nbconvert_exporter": "python",
   "pygments_lexer": "ipython3",
   "version": "3.11.9"
  }
 },
 "nbformat": 4,
 "nbformat_minor": 5
}
