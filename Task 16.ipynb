{
 "cells": [
  {
   "cell_type": "code",
   "execution_count": null,
   "id": "39be2702",
   "metadata": {},
   "outputs": [
    {
     "name": "stdout",
     "output_type": "stream",
     "text": [
      "tip amount is  100.0\n",
      "total bill is  1100.0\n"
     ]
    }
   ],
   "source": [
    "#Task 16: Tip Calculator\n",
    "#Problem: Calculate tip amount and total bill based on bill amount and tip percentage (both floats).\n",
    "#         Hint: Tip = bill_amount × (tip_percentage / 100). Total = bill_amount + tip.\n",
    "\n",
    "bill = float(input(\"Enter bill amount \"))\n",
    "\n",
    "tip = bill * 0.1 \n",
    "total = bill + tip\n",
    "\n",
    "print(\"tip amount is \", tip)\n",
    "print(\"total bill is \", total)\n",
    "\n"
   ]
  }
 ],
 "metadata": {
  "kernelspec": {
   "display_name": "Python 3",
   "language": "python",
   "name": "python3"
  },
  "language_info": {
   "codemirror_mode": {
    "name": "ipython",
    "version": 3
   },
   "file_extension": ".py",
   "mimetype": "text/x-python",
   "name": "python",
   "nbconvert_exporter": "python",
   "pygments_lexer": "ipython3",
   "version": "3.11.9"
  }
 },
 "nbformat": 4,
 "nbformat_minor": 5
}
