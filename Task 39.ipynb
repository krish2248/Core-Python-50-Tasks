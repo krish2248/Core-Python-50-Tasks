{
 "cells": [
  {
   "cell_type": "code",
   "execution_count": 1,
   "id": "b9fa6403",
   "metadata": {},
   "outputs": [
    {
     "name": "stdout",
     "output_type": "stream",
     "text": [
      "Multiplication table for 68:\n",
      "68 x 1 = 68\n",
      "68 x 2 = 136\n",
      "68 x 3 = 204\n",
      "68 x 4 = 272\n",
      "68 x 5 = 340\n",
      "68 x 6 = 408\n",
      "68 x 7 = 476\n",
      "68 x 8 = 544\n",
      "68 x 9 = 612\n",
      "68 x 10 = 680\n"
     ]
    }
   ],
   "source": [
    "\n",
    "# Task 39: Multiplication Table\n",
    "# Problem: Print multiplication table for a given number from 1 to 10.\n",
    "\n",
    "num = int(input(\"Enter a number: \"))\n",
    "\n",
    "print(f\"Multiplication table for {num}:\")\n",
    "for i in range(1, 11):\n",
    "    print(f\"{num} x {i} = {num * i}\")"
   ]
  }
 ],
 "metadata": {
  "kernelspec": {
   "display_name": "Python 3",
   "language": "python",
   "name": "python3"
  },
  "language_info": {
   "codemirror_mode": {
    "name": "ipython",
    "version": 3
   },
   "file_extension": ".py",
   "mimetype": "text/x-python",
   "name": "python",
   "nbconvert_exporter": "python",
   "pygments_lexer": "ipython3",
   "version": "3.11.9"
  }
 },
 "nbformat": 4,
 "nbformat_minor": 5
}
