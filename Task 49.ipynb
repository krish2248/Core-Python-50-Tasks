{
 "cells": [
  {
   "cell_type": "code",
   "execution_count": 1,
   "id": "4d9ab32e",
   "metadata": {},
   "outputs": [
    {
     "name": "stdout",
     "output_type": "stream",
     "text": [
      "Sum of sublist 1: 6\n",
      "Sum of sublist 2: 9\n",
      "Sum of sublist 3: 30\n"
     ]
    }
   ],
   "source": [
    "# Task 49: Nested List Processor\n",
    "# Problem: Process a 2D list (list of lists) to find sum of each sublist.\n",
    "\n",
    "nested_list = [\n",
    "    [1, 2, 3],\n",
    "    [4, 5],\n",
    "    [6, 7, 8, 9]\n",
    "]\n",
    "\n",
    "for idx, sublist in enumerate(nested_list, 1):\n",
    "    sublist_sum = 0\n",
    "    for num in sublist:\n",
    "        sublist_sum += num\n",
    "    print(f\"Sum of sublist {idx}: {sublist_sum}\")"
   ]
  }
 ],
 "metadata": {
  "kernelspec": {
   "display_name": "Python 3",
   "language": "python",
   "name": "python3"
  },
  "language_info": {
   "codemirror_mode": {
    "name": "ipython",
    "version": 3
   },
   "file_extension": ".py",
   "mimetype": "text/x-python",
   "name": "python",
   "nbconvert_exporter": "python",
   "pygments_lexer": "ipython3",
   "version": "3.11.9"
  }
 },
 "nbformat": 4,
 "nbformat_minor": 5
}
