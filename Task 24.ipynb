{
 "cells": [
  {
   "cell_type": "code",
   "execution_count": 2,
   "id": "5b04057c",
   "metadata": {},
   "outputs": [
    {
     "name": "stdout",
     "output_type": "stream",
     "text": [
      "Body Fat Percentage: 16.77%\n"
     ]
    }
   ],
   "source": [
    "# Task 24: Body Fat Percentage\n",
    "# Problem: Calculate body fat percentage using weight, height, age (floats) and gender.\n",
    "# Hint: Use different formulas for men and women. Research Navy method formula.\n",
    "\n",
    "# Navy Method (uses circumference measurements, but here's a simplified version using BMI):\n",
    "# For men:    BFP = 1.20 × BMI + 0.23 × Age − 16.2\n",
    "# For women:  BFP = 1.20 × BMI + 0.23 × Age − 5.4\n",
    "\n",
    "weight = float(input(\"Enter weight in kg: \"))\n",
    "height = float(input(\"Enter height in cm: \"))\n",
    "age = float(input(\"Enter age in years: \"))\n",
    "gender = input(\"Enter gender (male/female): \").strip().lower()\n",
    "\n",
    "# Calculate BMI\n",
    "height_m = height / 100\n",
    "bmi = weight / (height_m ** 2)\n",
    "\n",
    "if gender == \"male\":\n",
    "    bfp = 1.20 * bmi + 0.23 * age - 16.2\n",
    "elif gender == \"female\":\n",
    "    bfp = 1.20 * bmi + 0.23 * age - 5.4\n",
    "else:\n",
    "    print(\"Invalid gender entered.\")\n",
    "    bfp = None\n",
    "\n",
    "if bfp is not None:\n",
    "    print(f\"Body Fat Percentage: {bfp:.2f}%\")"
   ]
  }
 ],
 "metadata": {
  "kernelspec": {
   "display_name": "Python 3",
   "language": "python",
   "name": "python3"
  },
  "language_info": {
   "codemirror_mode": {
    "name": "ipython",
    "version": 3
   },
   "file_extension": ".py",
   "mimetype": "text/x-python",
   "name": "python",
   "nbconvert_exporter": "python",
   "pygments_lexer": "ipython3",
   "version": "3.11.9"
  }
 },
 "nbformat": 4,
 "nbformat_minor": 5
}
