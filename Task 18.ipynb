{
 "cells": [
  {
   "cell_type": "code",
   "execution_count": 1,
   "id": "760d1cfe",
   "metadata": {},
   "outputs": [
    {
     "name": "stdout",
     "output_type": "stream",
     "text": [
      "Distance between points is 16.54841382127\n"
     ]
    }
   ],
   "source": [
    "#Task 18: Distance Between Points\n",
    "#Problem: Calculate distance between two points (x1,y1) and (x2,y2) using float coordinates. Hint:\n",
    "#         Distance = √[(x2-x1)² + (y2-y1)²]. Use math.sqrt() function.\n",
    "\n",
    "x1 = float(input(\"Enter x1: \"))\n",
    "\n",
    "y1 = float(input(\"Enter y1: \"))\n",
    "\n",
    "x2 = float(input(\"Enter x2: \"))\n",
    "\n",
    "y2 = float(input(\"Enter y2: \"))\n",
    "\n",
    "\n",
    "\n",
    "distance = ((x2 - x1)**2 + (y2 - y1)**2)**0.5\n",
    "\n",
    "print(\"Distance between points is\", distance)"
   ]
  }
 ],
 "metadata": {
  "kernelspec": {
   "display_name": "Python 3",
   "language": "python",
   "name": "python3"
  },
  "language_info": {
   "codemirror_mode": {
    "name": "ipython",
    "version": 3
   },
   "file_extension": ".py",
   "mimetype": "text/x-python",
   "name": "python",
   "nbconvert_exporter": "python",
   "pygments_lexer": "ipython3",
   "version": "3.11.9"
  }
 },
 "nbformat": 4,
 "nbformat_minor": 5
}
