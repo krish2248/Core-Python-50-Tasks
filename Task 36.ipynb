{
 "cells": [
  {
   "cell_type": "code",
   "execution_count": 1,
   "id": "764a517c",
   "metadata": {},
   "outputs": [
    {
     "name": "stdout",
     "output_type": "stream",
     "text": [
      "6 3 10 5 16 8 4 2 1 "
     ]
    }
   ],
   "source": [
    "# Task 36: Collatz Conjecture\n",
    "# Problem: Apply Collatz rules (n/2 if even, 3n+1 if odd) until reaching 1.\n",
    "\n",
    "n = int(input(\"Enter a starting number: \"))\n",
    "\n",
    "print(n, end=\" \")\n",
    "while n != 1:\n",
    "    if n % 2 == 0:\n",
    "        n = n // 2\n",
    "    else:\n",
    "        n = 3 * n + 1\n",
    "    print(n, end=\" \")"
   ]
  }
 ],
 "metadata": {
  "kernelspec": {
   "display_name": "Python 3",
   "language": "python",
   "name": "python3"
  },
  "language_info": {
   "codemirror_mode": {
    "name": "ipython",
    "version": 3
   },
   "file_extension": ".py",
   "mimetype": "text/x-python",
   "name": "python",
   "nbconvert_exporter": "python",
   "pygments_lexer": "ipython3",
   "version": "3.11.9"
  }
 },
 "nbformat": 4,
 "nbformat_minor": 5
}
