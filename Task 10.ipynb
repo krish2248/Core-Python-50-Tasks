{
 "cells": [
  {
   "cell_type": "code",
   "execution_count": 2,
   "id": "d6a18d7b",
   "metadata": {},
   "outputs": [
    {
     "name": "stdout",
     "output_type": "stream",
     "text": [
      "You are not eligible to vote.\n"
     ]
    }
   ],
   "source": [
    "#Task 10: Voting Eligibility\n",
    "#Problem: Check if a person can vote based on age (≥18) and citizenship status. Hint: Use logical and\n",
    "#         operator to check both conditions.\n",
    "\n",
    "\n",
    "age = int(input(\"Enter age \"))\n",
    "aadhar = input(\"aadhar card (yes/no)\")\n",
    "\n",
    "if age >= 18 and aadhar == 'yes':\n",
    "    print(\"You are eligible to vote.\")\n",
    "else:\n",
    "    print(\"You are not eligible to vote.\")"
   ]
  }
 ],
 "metadata": {
  "kernelspec": {
   "display_name": "Python 3",
   "language": "python",
   "name": "python3"
  },
  "language_info": {
   "codemirror_mode": {
    "name": "ipython",
    "version": 3
   },
   "file_extension": ".py",
   "mimetype": "text/x-python",
   "name": "python",
   "nbconvert_exporter": "python",
   "pygments_lexer": "ipython3",
   "version": "3.11.9"
  }
 },
 "nbformat": 4,
 "nbformat_minor": 5
}
