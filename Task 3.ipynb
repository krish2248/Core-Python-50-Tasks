{
 "cells": [
  {
   "cell_type": "code",
   "execution_count": 9,
   "id": "97fccb3e",
   "metadata": {},
   "outputs": [
    {
     "name": "stdout",
     "output_type": "stream",
     "text": [
      "Invalid Input\n"
     ]
    }
   ],
   "source": [
    "#Task 3: Grade Calculator\n",
    "#Problem: Input a numerical score (0-100) and output the letter grade (A: 90-100, B: 80-89, C: 70-79,\n",
    "#         D: 60-69, F: below 60). Hint: Start checking from the highest grade downward using if and elif.\n",
    "\n",
    "marks = int(input(\"Enter Student Marks: \"))\n",
    "\n",
    "if 90 <= marks <= 100:\n",
    "        print(\"Student's grade is 'A' \")\n",
    "elif 80 <= marks < 89:\n",
    "        print(\"Student's grade is 'B'\")\n",
    "elif 70 <= marks < 79:\n",
    "        print(\"Student's grade is 'C' \")\n",
    "elif 60 <= marks < 69:\n",
    "        print(\"Student's grade is : 'D' \")\n",
    "elif       marks < 59:\n",
    "        print(\"Student's grade is : 'F' \")\n",
    "else:\n",
    "        print(\"Invalid Input\")"
   ]
  }
 ],
 "metadata": {
  "kernelspec": {
   "display_name": "Python 3",
   "language": "python",
   "name": "python3"
  },
  "language_info": {
   "codemirror_mode": {
    "name": "ipython",
    "version": 3
   },
   "file_extension": ".py",
   "mimetype": "text/x-python",
   "name": "python",
   "nbconvert_exporter": "python",
   "pygments_lexer": "ipython3",
   "version": "3.11.9"
  }
 },
 "nbformat": 4,
 "nbformat_minor": 5
}
