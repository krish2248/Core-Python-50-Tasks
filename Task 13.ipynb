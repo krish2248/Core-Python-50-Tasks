{
 "cells": [
  {
   "cell_type": "code",
   "execution_count": 4,
   "id": "ad9eee25",
   "metadata": {},
   "outputs": [
    {
     "name": "stdout",
     "output_type": "stream",
     "text": [
      "Result is : 169.0\n"
     ]
    }
   ],
   "source": [
    "#Task 13: Simple Calculator\n",
    "#Problem: Create a calculator that performs basic operations (+, -, *, /) on two float numbers. Hint:\n",
    "#         Use float(input()) to get decimal numbers. Handle division by zero with if-else\n",
    "\n",
    "num1 = float(input(\"Enter first number: \"))\n",
    "num2 = float(input(\"Enter second number: \"))\n",
    "\n",
    "operation = input(\"Enter operation (add, subtract, multiply, divide): \")\n",
    "\n",
    "if operation == \"add\":\n",
    "    print(\"Result is :\",num1 + num2)\n",
    "\n",
    "elif operation == \"subtract\":\n",
    "    print(\"Result is :\",num1 - num2)\n",
    "\n",
    "elif operation == \"multiply\":\n",
    "    print(\"Result is :\",num1 * num2)\n",
    "\n",
    "elif operation == \"divide\":\n",
    "    if num1 and num2 != 0:\n",
    "        print(\"Result is :\",num1 / num2)\n",
    "    else:\n",
    "        print(\"Invalid input\")\n",
    "\n",
    "else :\n",
    "    print(\"Invalid input\")"
   ]
  }
 ],
 "metadata": {
  "kernelspec": {
   "display_name": "Python 3",
   "language": "python",
   "name": "python3"
  },
  "language_info": {
   "codemirror_mode": {
    "name": "ipython",
    "version": 3
   },
   "file_extension": ".py",
   "mimetype": "text/x-python",
   "name": "python",
   "nbconvert_exporter": "python",
   "pygments_lexer": "ipython3",
   "version": "3.11.9"
  }
 },
 "nbformat": 4,
 "nbformat_minor": 5
}
