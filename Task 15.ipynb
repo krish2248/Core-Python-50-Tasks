{
 "cells": [
  {
   "cell_type": "code",
   "execution_count": 1,
   "id": "f6cc571b",
   "metadata": {},
   "outputs": [
    {
     "name": "stdout",
     "output_type": "stream",
     "text": [
      "Amount in rupee: 74.57\n"
     ]
    }
   ],
   "source": [
    "#Task 15: Currency Converter\n",
    "#Problem: Convert dollars to other currencies using float exchange rates. Hint: Store exchange rates\n",
    "#         as float variables. Multiply dollar amount by the rate.\n",
    "\n",
    "amount = float(input(\"Enter amount in dollars: \"))\n",
    "user = input(\"Enter choice of currency to exchange\")\n",
    "\n",
    "euro = 0.85\n",
    "pound = 0.75\n",
    "rupee = 74.57\n",
    "yen = 110.62\n",
    "\n",
    "if user == \"euro\":\n",
    "    print(\"Amount in euro:\", amount * euro)\n",
    "\n",
    "elif user == \"pound\":\n",
    "    print(\"Amount in pound:\", amount * pound)\n",
    "\n",
    "elif user == \"rupee\":\n",
    "    print(\"Amount in rupee:\", amount * rupee)\n",
    "\n",
    "elif user == \"yen\":\n",
    "    print(\"Amount in yen:\", amount * yen)\n",
    "\n",
    "else:\n",
    "    print(\"Invalid currency\")\n"
   ]
  }
 ],
 "metadata": {
  "kernelspec": {
   "display_name": "Python 3",
   "language": "python",
   "name": "python3"
  },
  "language_info": {
   "codemirror_mode": {
    "name": "ipython",
    "version": 3
   },
   "file_extension": ".py",
   "mimetype": "text/x-python",
   "name": "python",
   "nbconvert_exporter": "python",
   "pygments_lexer": "ipython3",
   "version": "3.11.9"
  }
 },
 "nbformat": 4,
 "nbformat_minor": 5
}
