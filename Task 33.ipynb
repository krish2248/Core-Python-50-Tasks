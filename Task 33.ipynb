{
 "cells": [
  {
   "cell_type": "code",
   "execution_count": 4,
   "id": "6a2e9565",
   "metadata": {},
   "outputs": [
    {
     "name": "stdout",
     "output_type": "stream",
     "text": [
      "Digital root is: 4\n"
     ]
    }
   ],
   "source": [
    "# Task 33: Digital Root Calculator\n",
    "# Problem: Keep summing digits of a number until single digit remains.\n",
    "\n",
    "number = int(input(\"Enter a number: \"))\n",
    "\n",
    "while number > 9:\n",
    "    digit_sum = 0\n",
    "    while number > 0:\n",
    "        digit_sum += number % 10\n",
    "        number //= 10\n",
    "    number = digit_sum\n",
    "\n",
    "print(f\"Digital root is: {number}\")"
   ]
  }
 ],
 "metadata": {
  "kernelspec": {
   "display_name": "Python 3",
   "language": "python",
   "name": "python3"
  },
  "language_info": {
   "codemirror_mode": {
    "name": "ipython",
    "version": 3
   },
   "file_extension": ".py",
   "mimetype": "text/x-python",
   "name": "python",
   "nbconvert_exporter": "python",
   "pygments_lexer": "ipython3",
   "version": "3.11.9"
  }
 },
 "nbformat": 4,
 "nbformat_minor": 5
}
