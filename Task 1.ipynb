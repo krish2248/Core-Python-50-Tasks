{
 "cells": [
  {
   "cell_type": "code",
   "execution_count": 3,
   "id": "d0935a23",
   "metadata": {},
   "outputs": [
    {
     "name": "stdout",
     "output_type": "stream",
     "text": [
      "Given number Is positive\n"
     ]
    }
   ],
   "source": [
    "#Task 1. Number Sign Checker\n",
    "\n",
    "#Problem: Write a program that asks the user for a number and tells them if it's positive, negative, or\n",
    "#         zero. Hint: Use if, elif, and else statements. Remember that 0 is neither positive nor negative.\n",
    "\n",
    "user = int(input(\"Enter Number\"))\n",
    "\n",
    "if user >= 1 :\n",
    "    print(\"Given number Is positive\")\n",
    "\n",
    "elif 0 != user <= 1 :\n",
    "    print(\"Given number is negative\")\n",
    "\n",
    "elif user == 0 :\n",
    "    print(\"Given number is zero\")\n",
    "\n",
    "else :\n",
    "    print(\"Input Invalide\")"
   ]
  }
 ],
 "metadata": {
  "kernelspec": {
   "display_name": "Python 3",
   "language": "python",
   "name": "python3"
  },
  "language_info": {
   "codemirror_mode": {
    "name": "ipython",
    "version": 3
   },
   "file_extension": ".py",
   "mimetype": "text/x-python",
   "name": "python",
   "nbconvert_exporter": "python",
   "pygments_lexer": "ipython3",
   "version": "3.11.9"
  }
 },
 "nbformat": 4,
 "nbformat_minor": 5
}
