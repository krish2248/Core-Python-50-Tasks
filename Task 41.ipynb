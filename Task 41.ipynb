{
 "cells": [
  {
   "cell_type": "code",
   "execution_count": 3,
   "id": "793d794b",
   "metadata": {},
   "outputs": [
    {
     "name": "stdout",
     "output_type": "stream",
     "text": [
      "Character counts:\n",
      "'A': 3\n",
      "'K': 2\n",
      "'S': 3\n",
      "'H': 2\n",
      "'T': 1\n",
      "'O': 1\n",
      "'N': 1\n",
      "'I': 3\n",
      "'R': 3\n",
      "'P': 1\n",
      "'Y': 1\n",
      "'J': 1\n",
      "'0': 5\n",
      "'2': 5\n"
     ]
    }
   ],
   "source": [
    "\n",
    "# Task 41: Character Counter\n",
    "# Problem: Count occurrences of each character in a string using for loop.\n",
    "\n",
    "text = input(\"Enter a string: \")\n",
    "char_count = {}\n",
    "\n",
    "for char in text:\n",
    "    if char in char_count:\n",
    "        char_count[char] += 1\n",
    "    else:\n",
    "        char_count[char] = 1\n",
    "\n",
    "print(\"Character counts:\")\n",
    "for char, count in char_count.items():\n",
    "    print(f\"'{char}': {count}\")"
   ]
  }
 ],
 "metadata": {
  "kernelspec": {
   "display_name": "Python 3",
   "language": "python",
   "name": "python3"
  },
  "language_info": {
   "codemirror_mode": {
    "name": "ipython",
    "version": 3
   },
   "file_extension": ".py",
   "mimetype": "text/x-python",
   "name": "python",
   "nbconvert_exporter": "python",
   "pygments_lexer": "ipython3",
   "version": "3.11.9"
  }
 },
 "nbformat": 4,
 "nbformat_minor": 5
}
