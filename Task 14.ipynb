{
 "cells": [
  {
   "cell_type": "code",
   "execution_count": 1,
   "id": "7322d069",
   "metadata": {},
   "outputs": [
    {
     "name": "stdout",
     "output_type": "stream",
     "text": [
      "Area of circle is 63.585\n",
      "Circumference of circle is 28.26\n"
     ]
    }
   ],
   "source": [
    "#Task 14: Circle Area and Circumference\n",
    "#Problem: Input radius as float and calculate both area and circumference of a circle. Hint: Import\n",
    "#         math module for pi: import math. Area = π×r², Circumference = 2×π×r.\n",
    "    \n",
    "radius = float(input(\"Enter radius of circle\"))\n",
    "\n",
    "area = 3.14 * radius * radius\n",
    "circumference = 2 * 3.14 * radius\n",
    "\n",
    "print(\"Area of circle is\", area)\n",
    "print(\"Circumference of circle is\", circumference)"
   ]
  }
 ],
 "metadata": {
  "kernelspec": {
   "display_name": "Python 3",
   "language": "python",
   "name": "python3"
  },
  "language_info": {
   "codemirror_mode": {
    "name": "ipython",
    "version": 3
   },
   "file_extension": ".py",
   "mimetype": "text/x-python",
   "name": "python",
   "nbconvert_exporter": "python",
   "pygments_lexer": "ipython3",
   "version": "3.11.9"
  }
 },
 "nbformat": 4,
 "nbformat_minor": 5
}
