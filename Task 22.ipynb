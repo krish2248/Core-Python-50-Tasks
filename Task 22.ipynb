{
 "cells": [
  {
   "cell_type": "code",
   "execution_count": 2,
   "id": "a875dc3e",
   "metadata": {},
   "outputs": [
    {
     "name": "stdout",
     "output_type": "stream",
     "text": [
      "Cost per person: 100.21\n"
     ]
    }
   ],
   "source": [
    "# Task 22: Pizza Cost Per Person\n",
    "# Problem: Calculate cost per person when ordering pizzas, including tax and tip (all floats).\n",
    "# Hint: Total cost = (pizza_cost + tax + tip) / number_of_people.\n",
    "\n",
    "pizza_cost = float(input(\"Enter total pizza cost: \"))\n",
    "tax = float(input(\"Enter tax amount: \"))\n",
    "tip = float(input(\"Enter tip amount: \"))\n",
    "number_of_people = int(input(\"Enter number of people: \"))\n",
    "\n",
    "if number_of_people > 0:\n",
    "    cost_per_person = (pizza_cost + tax + tip) / number_of_people\n",
    "    print(f\"Cost per person: {cost_per_person:.2f}\")\n",
    "else:\n",
    "    print(\"Number of people must be greater than 0.\")"
   ]
  }
 ],
 "metadata": {
  "kernelspec": {
   "display_name": "Python 3",
   "language": "python",
   "name": "python3"
  },
  "language_info": {
   "codemirror_mode": {
    "name": "ipython",
    "version": 3
   },
   "file_extension": ".py",
   "mimetype": "text/x-python",
   "name": "python",
   "nbconvert_exporter": "python",
   "pygments_lexer": "ipython3",
   "version": "3.11.9"
  }
 },
 "nbformat": 4,
 "nbformat_minor": 5
}
