{
 "cells": [
  {
   "cell_type": "code",
   "execution_count": 6,
   "id": "4fe0cde9",
   "metadata": {},
   "outputs": [
    {
     "name": "stdout",
     "output_type": "stream",
     "text": [
      "Number is Odd\n"
     ]
    }
   ],
   "source": [
    "#Task 4: Even or Odd\n",
    "#Problem: Write a program that determines if a given number is even or odd. Hint: Use the modulo\n",
    "#         operator %. If number % 2 == 0, it's even.\n",
    "\n",
    "number = int(input(\"Enter Number\"))\n",
    "\n",
    "if number % 2 == 0:\n",
    "   print(\"Number is Even\")\n",
    "\n",
    "elif number % 2 == 1:\n",
    "   print(\"Number is Odd\")\n",
    "\n",
    "else :\n",
    "   print(\"Invalid Input\")\n"
   ]
  }
 ],
 "metadata": {
  "kernelspec": {
   "display_name": "Python 3",
   "language": "python",
   "name": "python3"
  },
  "language_info": {
   "codemirror_mode": {
    "name": "ipython",
    "version": 3
   },
   "file_extension": ".py",
   "mimetype": "text/x-python",
   "name": "python",
   "nbconvert_exporter": "python",
   "pygments_lexer": "ipython3",
   "version": "3.11.9"
  }
 },
 "nbformat": 4,
 "nbformat_minor": 5
}
