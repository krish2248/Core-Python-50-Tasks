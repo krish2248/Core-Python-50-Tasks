{
 "cells": [
  {
   "cell_type": "code",
   "execution_count": 1,
   "id": "92b5d40e",
   "metadata": {},
   "outputs": [
    {
     "name": "stdout",
     "output_type": "stream",
     "text": [
      "Average grade: 64.60\n",
      "Highest grade: 93.0\n",
      "Lowest grade: 22.0\n"
     ]
    }
   ],
   "source": [
    "# Task 44: Grade Statistics\n",
    "# Problem: Input multiple grades and calculate average, highest, and lowest using for loop.\n",
    "\n",
    "num_grades = int(input(\"Enter number of grades: \"))\n",
    "grades = []\n",
    "\n",
    "for i in range(num_grades):\n",
    "    grade = float(input(f\"Enter grade {i+1}: \"))\n",
    "    grades.append(grade)\n",
    "\n",
    "if grades:\n",
    "    average = sum(grades) / len(grades)\n",
    "    highest = max(grades)\n",
    "    lowest = min(grades)\n",
    "    print(f\"Average grade: {average:.2f}\")\n",
    "    print(f\"Highest grade: {highest}\")\n",
    "    print(f\"Lowest grade: {lowest}\")\n",
    "else:\n",
    "    print(\"No grades entered.\")"
   ]
  }
 ],
 "metadata": {
  "kernelspec": {
   "display_name": "Python 3",
   "language": "python",
   "name": "python3"
  },
  "language_info": {
   "codemirror_mode": {
    "name": "ipython",
    "version": 3
   },
   "file_extension": ".py",
   "mimetype": "text/x-python",
   "name": "python",
   "nbconvert_exporter": "python",
   "pygments_lexer": "ipython3",
   "version": "3.11.9"
  }
 },
 "nbformat": 4,
 "nbformat_minor": 5
}
