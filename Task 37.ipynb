{
 "cells": [
  {
   "cell_type": "code",
   "execution_count": 1,
   "id": "122cb14f",
   "metadata": {},
   "outputs": [
    {
     "name": "stdout",
     "output_type": "stream",
     "text": [
      "Subtotal: 214.00\n",
      "Tax (@8%): 17.12\n",
      "Total with tax: 231.12\n"
     ]
    }
   ],
   "source": [
    "# Task 37: Shopping Cart Total\n",
    "# Problem: Keep adding item prices until user enters 0, then show total with tax.\n",
    "\n",
    "total = 0.0\n",
    "tax_rate = 0.08  # Example: 8% tax\n",
    "\n",
    "while True:\n",
    "    price = float(input(\"Enter item price (0 to finish): \"))\n",
    "    if price == 0:\n",
    "        break\n",
    "    total += price\n",
    "\n",
    "tax = total * tax_rate\n",
    "grand_total = total + tax\n",
    "\n",
    "print(f\"Subtotal: {total:.2f}\")\n",
    "print(f\"Tax (@{tax_rate*100:.0f}%): {tax:.2f}\")\n",
    "print(f\"Total with tax: {grand_total:.2f}\")"
   ]
  }
 ],
 "metadata": {
  "kernelspec": {
   "display_name": "Python 3",
   "language": "python",
   "name": "python3"
  },
  "language_info": {
   "codemirror_mode": {
    "name": "ipython",
    "version": 3
   },
   "file_extension": ".py",
   "mimetype": "text/x-python",
   "name": "python",
   "nbconvert_exporter": "python",
   "pygments_lexer": "ipython3",
   "version": "3.11.9"
  }
 },
 "nbformat": 4,
 "nbformat_minor": 5
}
