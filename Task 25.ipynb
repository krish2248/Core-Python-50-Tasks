{
 "cells": [
  {
   "cell_type": "code",
   "execution_count": 1,
   "id": "70283c6d",
   "metadata": {},
   "outputs": [
    {
     "name": "stdout",
     "output_type": "stream",
     "text": [
      "It will take approximately 8.00 years for the investment to double.\n"
     ]
    }
   ],
   "source": [
    "# Task 25: Investment Growth Calculator\n",
    "# Problem: Calculate how long it takes for an investment to double given annual return rate (float).\n",
    "# Hint: Use Rule of 72: Years ≈ 72 / annual_return_rate.\n",
    "\n",
    "annual_return_rate = float(input(\"Enter annual return rate (in %): \"))\n",
    "\n",
    "if annual_return_rate > 0:\n",
    "    years = 72 / annual_return_rate\n",
    "    print(f\"It will take approximately {years:.2f} years for the investment to double.\")\n",
    "else:\n",
    "    print(\"Annual return rate must be greater than 0.\")"
   ]
  }
 ],
 "metadata": {
  "kernelspec": {
   "display_name": "Python 3",
   "language": "python",
   "name": "python3"
  },
  "language_info": {
   "codemirror_mode": {
    "name": "ipython",
    "version": 3
   },
   "file_extension": ".py",
   "mimetype": "text/x-python",
   "name": "python",
   "nbconvert_exporter": "python",
   "pygments_lexer": "ipython3",
   "version": "3.11.9"
  }
 },
 "nbformat": 4,
 "nbformat_minor": 5
}
