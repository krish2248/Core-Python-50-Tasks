{
 "cells": [
  {
   "cell_type": "code",
   "execution_count": 2,
   "id": "95c71e81",
   "metadata": {},
   "outputs": [
    {
     "name": "stdout",
     "output_type": "stream",
     "text": [
      "Miles per gallon used is : 5.0\n"
     ]
    }
   ],
   "source": [
    "#Task 19: Fuel Efficiency Calculator\n",
    "#Problem: Calculate miles per gallon given distance (float) and fuel used (float). Hint: MPG = distance\n",
    "#         / fuel_used. Handle zero fuel case.\n",
    "\n",
    "distance = float(input(\"Enter distance\"))\n",
    "fuel_used = float(input(\"Enter used fuel\"))\n",
    "\n",
    "if distance and fuel_used != 0:\n",
    "    print(\"Miles per gallon used is :\",distance / fuel_used)\n",
    "else :\n",
    "    print(\"Invalid Input\")\n",
    "\n",
    "\n",
    "\n"
   ]
  }
 ],
 "metadata": {
  "kernelspec": {
   "display_name": "Python 3",
   "language": "python",
   "name": "python3"
  },
  "language_info": {
   "codemirror_mode": {
    "name": "ipython",
    "version": 3
   },
   "file_extension": ".py",
   "mimetype": "text/x-python",
   "name": "python",
   "nbconvert_exporter": "python",
   "pygments_lexer": "ipython3",
   "version": "3.11.9"
  }
 },
 "nbformat": 4,
 "nbformat_minor": 5
}
