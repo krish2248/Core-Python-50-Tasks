{
 "cells": [
  {
   "cell_type": "code",
   "execution_count": 2,
   "id": "d77f5aa1",
   "metadata": {},
   "outputs": [
    {
     "name": "stdout",
     "output_type": "stream",
     "text": [
      "Sum of entered numbers: 124279009.0\n"
     ]
    }
   ],
   "source": [
    "# Task 27: Sum Until Zero\n",
    "# Problem: Keep asking for numbers and sum them until user enters 0.\n",
    "\n",
    "total = 0\n",
    "\n",
    "while True:\n",
    "    num = float(input(\"Enter a number (0 to stop): \"))\n",
    "    if num == 0:\n",
    "        break\n",
    "    total += num\n",
    "\n",
    "print(f\"Sum of entered numbers: {total}\")"
   ]
  }
 ],
 "metadata": {
  "kernelspec": {
   "display_name": "Python 3",
   "language": "python",
   "name": "python3"
  },
  "language_info": {
   "codemirror_mode": {
    "name": "ipython",
    "version": 3
   },
   "file_extension": ".py",
   "mimetype": "text/x-python",
   "name": "python",
   "nbconvert_exporter": "python",
   "pygments_lexer": "ipython3",
   "version": "3.11.9"
  }
 },
 "nbformat": 4,
 "nbformat_minor": 5
}
