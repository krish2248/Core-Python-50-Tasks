{
 "cells": [
  {
   "cell_type": "code",
   "execution_count": 1,
   "id": "58431f4b",
   "metadata": {},
   "outputs": [
    {
     "name": "stdout",
     "output_type": "stream",
     "text": [
      "Monthly payment: 869.88\n"
     ]
    }
   ],
   "source": [
    "# Task 21: Loan Payment Calculator\n",
    "# Problem: Calculate monthly payment for a loan using principal, annual rate, and years (floats).\n",
    "# Hint: Monthly rate = annual_rate/12/100. Use loan payment formula.\n",
    "\n",
    "# Loan payment formula:\n",
    "# M = P * r * (1 + r) ** n / ((1 + r) ** n - 1)\n",
    "# Where:\n",
    "# M = monthly payment\n",
    "# P = principal (loan amount)\n",
    "# r = monthly interest rate (annual_rate / 12 / 100)\n",
    "# n = total number of payments (years * 12)\n",
    "\n",
    "principal = float(input(\"Enter loan principal amount: \"))\n",
    "annual_rate = float(input(\"Enter annual interest rate (in %): \"))\n",
    "years = float(input(\"Enter loan period in years: \"))\n",
    "\n",
    "monthly_rate = annual_rate / 12 / 100\n",
    "n = int(years * 12)\n",
    "\n",
    "if monthly_rate == 0:\n",
    "    monthly_payment = principal / n\n",
    "else:\n",
    "    monthly_payment = principal * monthly_rate * (1 + monthly_rate) ** n / ((1 + monthly_rate) ** n - 1)\n",
    "\n",
    "print(f\"Monthly payment: {monthly_payment:.2f}\")"
   ]
  }
 ],
 "metadata": {
  "kernelspec": {
   "display_name": "Python 3",
   "language": "python",
   "name": "python3"
  },
  "language_info": {
   "codemirror_mode": {
    "name": "ipython",
    "version": 3
   },
   "file_extension": ".py",
   "mimetype": "text/x-python",
   "name": "python",
   "nbconvert_exporter": "python",
   "pygments_lexer": "ipython3",
   "version": "3.11.9"
  }
 },
 "nbformat": 4,
 "nbformat_minor": 5
}
