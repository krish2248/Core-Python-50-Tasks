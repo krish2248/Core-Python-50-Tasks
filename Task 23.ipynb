{
 "cells": [
  {
   "cell_type": "code",
   "execution_count": 4,
   "id": "cd42fb07",
   "metadata": {},
   "outputs": [
    {
     "name": "stdout",
     "output_type": "stream",
     "text": [
      "GPA: 24.47\n"
     ]
    }
   ],
   "source": [
    "# Task 23: GPA Calculator\n",
    "# Problem: Calculate GPA from course credits and grades (floats). Input multiple courses.\n",
    "# Hint: GPA = total_grade_points / total_credits. Use a loop to input multiple courses.\n",
    "\n",
    "total_grade_points = 0.0\n",
    "total_credits = 0.0\n",
    "\n",
    "num_courses = int(input(\"Enter number of courses: \"))\n",
    "\n",
    "for i in range(num_courses):\n",
    "    credits = float(input(f\"Enter credits for course {i+1}: \"))\n",
    "    grade = float(input(f\"Enter grade for course {i+1}: \"))\n",
    "    total_grade_points += credits * grade\n",
    "    total_credits += credits\n",
    "\n",
    "if total_credits > 0:\n",
    "    gpa = total_grade_points / total_credits\n",
    "    print(f\"GPA: {gpa:.2f}\")\n",
    "else:\n",
    "    print(\"No courses entered.\")"
   ]
  }
 ],
 "metadata": {
  "kernelspec": {
   "display_name": "Python 3",
   "language": "python",
   "name": "python3"
  },
  "language_info": {
   "codemirror_mode": {
    "name": "ipython",
    "version": 3
   },
   "file_extension": ".py",
   "mimetype": "text/x-python",
   "name": "python",
   "nbconvert_exporter": "python",
   "pygments_lexer": "ipython3",
   "version": "3.11.9"
  }
 },
 "nbformat": 4,
 "nbformat_minor": 5
}
