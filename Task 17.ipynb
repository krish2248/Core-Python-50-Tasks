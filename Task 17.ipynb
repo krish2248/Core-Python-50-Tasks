{
 "cells": [
  {
   "cell_type": "code",
   "execution_count": 4,
   "id": "908849c7",
   "metadata": {},
   "outputs": [
    {
     "name": "stdout",
     "output_type": "stream",
     "text": [
      "Compound interest is 11250.0\n",
      "Amount is 31250.0\n"
     ]
    }
   ],
   "source": [
    "#Task 17: Compound Interest Calculator\n",
    "#Problem: Calculate compound interest given principal, rate, time, and compounding frequency (all\n",
    "#         floats). Hint: Formula: A = P(1 + r/n)^(nt). Use ** for exponentiation.\n",
    "\n",
    "principal = float(input(\"Enter principal amount (p)\"))\n",
    "\n",
    "rate = float(input(\"Enter rate (r)\"))\n",
    "\n",
    "time = float(input(\"Enter time (t)\"))\n",
    "\n",
    "frequency = float(input(\"Enter compounding frequency (n)\"))\n",
    "\n",
    "amount = principal * (1 + rate / frequency) ** (frequency * time)\n",
    "\n",
    "compound_interest = amount - principal\n",
    "\n",
    "\n",
    "\n",
    "print(\"Compound interest is\", compound_interest)\n",
    "\n",
    "print(\"Amount is\", amount)\n"
   ]
  }
 ],
 "metadata": {
  "kernelspec": {
   "display_name": "Python 3",
   "language": "python",
   "name": "python3"
  },
  "language_info": {
   "codemirror_mode": {
    "name": "ipython",
    "version": 3
   },
   "file_extension": ".py",
   "mimetype": "text/x-python",
   "name": "python",
   "nbconvert_exporter": "python",
   "pygments_lexer": "ipython3",
   "version": "3.11.9"
  }
 },
 "nbformat": 4,
 "nbformat_minor": 5
}
