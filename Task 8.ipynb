{
 "cells": [
  {
   "cell_type": "code",
   "execution_count": 4,
   "id": "22b24448",
   "metadata": {},
   "outputs": [
    {
     "name": "stdout",
     "output_type": "stream",
     "text": [
      "Triangle is Equilateral.\n"
     ]
    }
   ],
   "source": [
    "#Task 8: Triangle Type Classifier\n",
    "#Problem: Input three sides of a triangle and determine if it's equilateral, isosceles, or scalene. Hint:\n",
    "#         Compare the three sides using == operator in different combinations.\n",
    "\n",
    "side1 = int(input(\"Enter side 1: \"))\n",
    "side2 = int(input(\"Enter side 2: \"))\n",
    "side3 = int(input(\"Enter side 3: \"))\n",
    "\n",
    "if side1 == side2 == side3:\n",
    "    print(\"Triangle is Equilateral.\")\n",
    "\n",
    "elif side1 == side2: \n",
    "    print(\"Triangle is Isosceles.\")\n",
    "\n",
    "elif side2 == side3:\n",
    "    print(\"Triangle is Isosceles.\")\n",
    "\n",
    "elif side1 == side3:\n",
    "    print(\"Triangle is Isosceles.\")\n",
    "\n",
    "else:\n",
    "    print(\"Triangle is Scalene.\")\n",
    "    "
   ]
  }
 ],
 "metadata": {
  "kernelspec": {
   "display_name": "Python 3",
   "language": "python",
   "name": "python3"
  },
  "language_info": {
   "codemirror_mode": {
    "name": "ipython",
    "version": 3
   },
   "file_extension": ".py",
   "mimetype": "text/x-python",
   "name": "python",
   "nbconvert_exporter": "python",
   "pygments_lexer": "ipython3",
   "version": "3.11.9"
  }
 },
 "nbformat": 4,
 "nbformat_minor": 5
}
