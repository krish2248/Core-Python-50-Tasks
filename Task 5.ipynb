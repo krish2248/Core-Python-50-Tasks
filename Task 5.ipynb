{
 "cells": [
  {
   "cell_type": "code",
   "execution_count": 18,
   "id": "92edbad5",
   "metadata": {},
   "outputs": [
    {
     "name": "stdout",
     "output_type": "stream",
     "text": [
      "Given year is a leap year.\n"
     ]
    }
   ],
   "source": [
    "#Task 5: Leap Year Checker\n",
    "#Problem: Determine if a given year is a leap year. (Divisible by 4, but not by 100, unless also divisible\n",
    "#         by 400) Hint: Use logical operators and, or, and not to combine conditions\n",
    "\n",
    "year = int(input(\"Enter year: \"))\n",
    "\n",
    "if (year % 4 == 0 and year % 100 != 0):\n",
    "    print(\"Given year is a leap year.\")\n",
    "else:\n",
    "    print(\"Given year is not a leap year.\")"
   ]
  }
 ],
 "metadata": {
  "kernelspec": {
   "display_name": "Python 3",
   "language": "python",
   "name": "python3"
  },
  "language_info": {
   "codemirror_mode": {
    "name": "ipython",
    "version": 3
   },
   "file_extension": ".py",
   "mimetype": "text/x-python",
   "name": "python",
   "nbconvert_exporter": "python",
   "pygments_lexer": "ipython3",
   "version": "3.11.9"
  }
 },
 "nbformat": 4,
 "nbformat_minor": 5
}
