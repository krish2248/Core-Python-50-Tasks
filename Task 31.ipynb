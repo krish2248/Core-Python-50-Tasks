{
 "cells": [
  {
   "cell_type": "code",
   "execution_count": 3,
   "id": "5dcee8d4",
   "metadata": {},
   "outputs": [
    {
     "name": "stdout",
     "output_type": "stream",
     "text": [
      "Factorial of 3 is 6\n"
     ]
    }
   ],
   "source": [
    "# Task 31: Factorial Calculator\n",
    "# Problem: Calculate factorial of a number using while loop.\n",
    "\n",
    "n = int(input(\"Enter a number: \"))\n",
    "result = 1\n",
    "counter = 1\n",
    "\n",
    "while counter <= n:\n",
    "    result *= counter\n",
    "    counter += 1\n",
    "\n",
    "print(f\"Factorial of {n} is {result}\")"
   ]
  }
 ],
 "metadata": {
  "kernelspec": {
   "display_name": "Python 3",
   "language": "python",
   "name": "python3"
  },
  "language_info": {
   "codemirror_mode": {
    "name": "ipython",
    "version": 3
   },
   "file_extension": ".py",
   "mimetype": "text/x-python",
   "name": "python",
   "nbconvert_exporter": "python",
   "pygments_lexer": "ipython3",
   "version": "3.11.9"
  }
 },
 "nbformat": 4,
 "nbformat_minor": 5
}
