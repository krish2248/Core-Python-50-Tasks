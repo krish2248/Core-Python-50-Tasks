{
 "cells": [
  {
   "cell_type": "code",
   "execution_count": null,
   "id": "0cf0d19a",
   "metadata": {},
   "outputs": [
    {
     "name": "stdout",
     "output_type": "stream",
     "text": [
      "\n",
      "Menu:\n",
      "1. Say Hello\n",
      "2. Show Info\n",
      "3. Exit\n",
      "\n",
      "Hello!\n",
      "\n",
      "Menu:\n",
      "1. Say Hello\n",
      "2. Show Info\n",
      "3. Exit\n",
      "\n",
      "This is a simple menu system.\n",
      "\n",
      "Menu:\n",
      "1. Say Hello\n",
      "2. Show Info\n",
      "3. Exit\n",
      "\n",
      "Exiting menu. Goodbye!\n"
     ]
    }
   ],
   "source": [
    "# Task 30: Menu System\n",
    "# Problem: Create a menu that keeps showing options until user chooses to exit.\n",
    "\n",
    "while True:\n",
    "    print(\"\\nMenu:\")\n",
    "    print(\"1. Say Hello\")\n",
    "    print(\"2. Show Info\")\n",
    "    print(\"3. Exit\")\n",
    "    choice = input(\"Enter your choice (1/2/3): \")\n",
    "\n",
    "    if choice == '1':\n",
    "        print(\"\\nHello!\")\n",
    "    elif choice == '2':\n",
    "        print(\"\\nThis is a simple menu system.\")\n",
    "    elif choice == '3':\n",
    "        print(\"\\nExiting menu. Goodbye!\")\n",
    "        break\n",
    "    else:\n",
    "        print(\"Invalid choice. Please try again.\")"
   ]
  }
 ],
 "metadata": {
  "kernelspec": {
   "display_name": "Python 3",
   "language": "python",
   "name": "python3"
  },
  "language_info": {
   "codemirror_mode": {
    "name": "ipython",
    "version": 3
   },
   "file_extension": ".py",
   "mimetype": "text/x-python",
   "name": "python",
   "nbconvert_exporter": "python",
   "pygments_lexer": "ipython3",
   "version": "3.11.9"
  }
 },
 "nbformat": 4,
 "nbformat_minor": 5
}
