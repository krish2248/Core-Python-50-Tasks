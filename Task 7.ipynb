{
 "cells": [
  {
   "cell_type": "code",
   "execution_count": 13,
   "id": "5e3c0dcc",
   "metadata": {},
   "outputs": [
    {
     "name": "stdout",
     "output_type": "stream",
     "text": [
      "Login failed.\n",
      "Login failed.\n",
      "Login failed.\n",
      "Too many attempts , account is locked.\n"
     ]
    }
   ],
   "source": [
    "#Task 7: Login System\n",
    "#Problem: Create a simple login that checks username and password. Give 3 attempts before locking\n",
    "#         out. Hint: Use a counter variable and a while loop with if-else inside.\n",
    "\n",
    "username = \"Modi\"\n",
    "password = \"narendra\"\n",
    "attempts = 0\n",
    "\n",
    "while attempts < 3:\n",
    "    username123 = input(\"Enter username: \")\n",
    "    password123 = input(\"Enter password: \")\n",
    "\n",
    "    if username123 == username and password123 == password:\n",
    "        print(\"Login successful!\")\n",
    "    \n",
    "    else:\n",
    "        print(\"Login failed.\")\n",
    "        attempts += 1\n",
    "\n",
    "if attempts == 3:\n",
    "    print(\"Too many attempts , account is locked.\")\n"
   ]
  }
 ],
 "metadata": {
  "kernelspec": {
   "display_name": "Python 3",
   "language": "python",
   "name": "python3"
  },
  "language_info": {
   "codemirror_mode": {
    "name": "ipython",
    "version": 3
   },
   "file_extension": ".py",
   "mimetype": "text/x-python",
   "name": "python",
   "nbconvert_exporter": "python",
   "pygments_lexer": "ipython3",
   "version": "3.11.9"
  }
 },
 "nbformat": 4,
 "nbformat_minor": 5
}
