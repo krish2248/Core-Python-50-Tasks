{
 "cells": [
  {
   "cell_type": "code",
   "execution_count": 8,
   "id": "827a4513",
   "metadata": {},
   "outputs": [
    {
     "name": "stdout",
     "output_type": "stream",
     "text": [
      "Press 1 to convert Celsius to Fahrenheit\n",
      "Press 2 to convert Celsius to Kelvin\n",
      "Press 3 to convert Fahrenheit to Celsius\n",
      "Press 4 to convert Fahrenheit to Kelvin\n",
      "Press 5 to convert Kelvin to Celsius\n",
      "Press 6 to convert Kelvin to Fahrenheit\n",
      "23424.0K is equal to 41703.53°F\n"
     ]
    }
   ],
   "source": [
    "#Task 20: Temperature Converter\n",
    "#roblem: Convert between Celsius, Fahrenheit, and Kelvin using float inputs. Hint: F = C×9/5 + 32, K\n",
    "#         = C + 273.15. Create a menu system\n",
    "\n",
    "print(\"Press 1 to convert Celsius to Fahrenheit\")\n",
    "\n",
    "print(\"Press 2 to convert Celsius to Kelvin\")\n",
    "\n",
    "print(\"Press 3 to convert Fahrenheit to Celsius\")\n",
    "\n",
    "print(\"Press 4 to convert Fahrenheit to Kelvin\")\n",
    "\n",
    "print(\"Press 5 to convert Kelvin to Celsius\")\n",
    "\n",
    "print(\"Press 6 to convert Kelvin to Fahrenheit\")\n",
    "\n",
    "\n",
    "choice = int(input(\"Enter your choice (1-6): \"))\n",
    "\n",
    "if choice == 1:\n",
    "    celsius = float(input(\"Enter temperature in Celsius: \"))\n",
    "    fahrenheit = (celsius * 9/5) + 32\n",
    "    print(f\"{celsius}°C is equal to {fahrenheit}°F\")\n",
    "\n",
    "elif choice == 2:\n",
    "    celsius = float(input(\"Enter temperature in Celsius: \"))\n",
    "    kelvin = celsius + 273.15\n",
    "    print(f\"{celsius}°C is equal to {kelvin}K\")\n",
    "\n",
    "elif choice == 3:\n",
    "    fahrenheit = float(input(\"Enter temperature in Fahrenheit: \"))\n",
    "    celsius = (fahrenheit - 32) * 5/9\n",
    "    print(f\"{fahrenheit}°F is equal to {celsius}°C\")\n",
    "\n",
    "elif choice == 4:\n",
    "    fahrenheit = float(input(\"Enter temperature in Fahrenheit: \"))\n",
    "    kelvin = (fahrenheit - 32) * 5/9 + 273.15\n",
    "    print(f\"{fahrenheit}°F is equal to {kelvin}K\")\n",
    "\n",
    "elif choice == 5:\n",
    "    kelvin = float(input(\"Enter temperature in Kelvin: \"))\n",
    "    celsius = kelvin - 273.15\n",
    "    print(f\"{kelvin}K is equal to {celsius}°C\")\n",
    "\n",
    "elif choice == 6:\n",
    "    kelvin = float(input(\"Enter temperature in Kelvin: \"))\n",
    "    fahrenheit = (kelvin - 273.15) * 9/5 + 32\n",
    "    print(f\"{kelvin}K is equal to {fahrenheit}°F\")\n",
    "\n",
    "else:\n",
    "    print(\"Invalid choice. Please select a number between 1 and 6.\")\n",
    "\n",
    "\n"
   ]
  }
 ],
 "metadata": {
  "kernelspec": {
   "display_name": "Python 3",
   "language": "python",
   "name": "python3"
  },
  "language_info": {
   "codemirror_mode": {
    "name": "ipython",
    "version": 3
   },
   "file_extension": ".py",
   "mimetype": "text/x-python",
   "name": "python",
   "nbconvert_exporter": "python",
   "pygments_lexer": "ipython3",
   "version": "3.11.9"
  }
 },
 "nbformat": 4,
 "nbformat_minor": 5
}
