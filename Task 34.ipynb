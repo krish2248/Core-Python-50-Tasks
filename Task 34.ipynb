{
 "cells": [
  {
   "cell_type": "code",
   "execution_count": 1,
   "id": "e0ab7899",
   "metadata": {},
   "outputs": [
    {
     "name": "stdout",
     "output_type": "stream",
     "text": [
      "\n",
      "Bank Account Menu:\n",
      "1. Deposit\n",
      "2. Withdraw\n",
      "3. Check Balance\n",
      "4. Quit\n",
      "Deposited: 4000.00\n",
      "\n",
      "Bank Account Menu:\n",
      "1. Deposit\n",
      "2. Withdraw\n",
      "3. Check Balance\n",
      "4. Quit\n",
      "Withdrew: 1000.00\n",
      "\n",
      "Bank Account Menu:\n",
      "1. Deposit\n",
      "2. Withdraw\n",
      "3. Check Balance\n",
      "4. Quit\n",
      "Current balance: 3000.00\n",
      "\n",
      "Bank Account Menu:\n",
      "1. Deposit\n",
      "2. Withdraw\n",
      "3. Check Balance\n",
      "4. Quit\n",
      "Thank you for using the Bank Account Simulator!\n"
     ]
    }
   ],
   "source": [
    "# Task 34: Bank Account Simulator\n",
    "# Problem: Simulate bank account with deposit/withdraw options. Continue until user quits.\n",
    "\n",
    "balance = 0.0\n",
    "\n",
    "while True:\n",
    "    print(\"\\nBank Account Menu:\")\n",
    "    print(\"1. Deposit\")\n",
    "    print(\"2. Withdraw\")\n",
    "    print(\"3. Check Balance\")\n",
    "    print(\"4. Quit\")\n",
    "    choice = input(\"Enter your choice (1/2/3/4): \")\n",
    "\n",
    "    if choice == '1':\n",
    "        amount = float(input(\"Enter deposit amount: \"))\n",
    "        if amount > 0:\n",
    "            balance += amount\n",
    "            print(f\"Deposited: {amount:.2f}\")\n",
    "        else:\n",
    "            print(\"Invalid deposit amount.\")\n",
    "\n",
    "    elif choice == '2':\n",
    "        amount = float(input(\"Enter withdrawal amount: \"))\n",
    "        if 0 < amount <= balance:\n",
    "            balance -= amount\n",
    "            print(f\"Withdrew: {amount:.2f}\")\n",
    "        else:\n",
    "            print(\"Invalid or insufficient funds.\")\n",
    "\n",
    "    elif choice == '3':\n",
    "        print(f\"Current balance: {balance:.2f}\")\n",
    "\n",
    "    elif choice == '4':\n",
    "        print(\"Thank you for using the Bank Account Simulator!\")\n",
    "        break\n",
    "\n",
    "    else:\n",
    "        print(\"Invalid choice. Please try again.\")"
   ]
  }
 ],
 "metadata": {
  "kernelspec": {
   "display_name": "Python 3",
   "language": "python",
   "name": "python3"
  },
  "language_info": {
   "codemirror_mode": {
    "name": "ipython",
    "version": 3
   },
   "file_extension": ".py",
   "mimetype": "text/x-python",
   "name": "python",
   "nbconvert_exporter": "python",
   "pygments_lexer": "ipython3",
   "version": "3.11.9"
  }
 },
 "nbformat": 4,
 "nbformat_minor": 5
}
