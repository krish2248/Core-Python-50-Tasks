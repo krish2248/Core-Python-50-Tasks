{
 "cells": [
  {
   "cell_type": "code",
   "execution_count": null,
   "id": "6df699b5",
   "metadata": {},
   "outputs": [
    {
     "name": "stdout",
     "output_type": "stream",
     "text": [
      "Spring\n"
     ]
    }
   ],
   "source": [
    "#Task 12: Season Identifier\n",
    "#Problem: Input a month number (1-12) and output the season. Hint: Group months: Winter (12,1,2),\n",
    "#         Spring (3,4,5), Summer (6,7,8), Fall (9,10,11).\n",
    "\n",
    "month = int(input(\"Enter month number 1-12 \"))\n",
    "\n",
    "if month == 12 or month == 1 or month == 2:\n",
    "    print(\"Winter\")\n",
    "\n",
    "elif month == 3 or month == 4 or month == 5:\n",
    "    print(\"Spring\")\n",
    "\n",
    "elif month == 6 or month == 7 or month == 8:\n",
    "    print(\"Summer\")\n",
    "\n",
    "elif month == 9 or month == 10 or month == 11:\n",
    "    print(\"Fall\")\n",
    "\n",
    "else:\n",
    "    print(\"Invalid month\")"
   ]
  }
 ],
 "metadata": {
  "kernelspec": {
   "display_name": "Python 3",
   "language": "python",
   "name": "python3"
  },
  "language_info": {
   "codemirror_mode": {
    "name": "ipython",
    "version": 3
   },
   "file_extension": ".py",
   "mimetype": "text/x-python",
   "name": "python",
   "nbconvert_exporter": "python",
   "pygments_lexer": "ipython3",
   "version": "3.11.9"
  }
 },
 "nbformat": 4,
 "nbformat_minor": 5
}
