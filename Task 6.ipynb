{
 "cells": [
  {
   "cell_type": "code",
   "execution_count": 4,
   "id": "0d3a87f0",
   "metadata": {},
   "outputs": [
    {
     "name": "stdout",
     "output_type": "stream",
     "text": [
      "It is hot , wear airy clothes.\n"
     ]
    }
   ],
   "source": [
    "#Task 6: Temperature Advisor\n",
    "#Problem: Ask for temperature and give clothing advice: Hot (>80°F), Warm (60-80°F), Cool (40-59°F),\n",
    "#         Cold (<40°F). Hint: Use comparison operators and elif statements for temperature ranges.\n",
    "\n",
    "temp = float(input(\"Enter the temperature in Fahrenheit: \"))\n",
    "\n",
    "if temp > 80:\n",
    "    print(\"It is hot , wear airy clothes.\")\n",
    "\n",
    "elif 60 <= temp <= 80:\n",
    "    print(\"It is warm, wear regular clothing.\")\n",
    "\n",
    "elif 40 <= temp <= 59:\n",
    "    print(\"It is cool, wear a sweater.\")\n",
    "\n",
    "elif temp < 40:\n",
    "    print(\"It is cold, wear a coat.\")\n",
    "\n",
    "else:\n",
    "    print(\"Invalid Input\")"
   ]
  }
 ],
 "metadata": {
  "kernelspec": {
   "display_name": "Python 3",
   "language": "python",
   "name": "python3"
  },
  "language_info": {
   "codemirror_mode": {
    "name": "ipython",
    "version": 3
   },
   "file_extension": ".py",
   "mimetype": "text/x-python",
   "name": "python",
   "nbconvert_exporter": "python",
   "pygments_lexer": "ipython3",
   "version": "3.11.9"
  }
 },
 "nbformat": 4,
 "nbformat_minor": 5
}
